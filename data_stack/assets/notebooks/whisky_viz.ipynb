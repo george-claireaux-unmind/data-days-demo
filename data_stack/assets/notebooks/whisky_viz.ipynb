{
 "cells": [
  {
   "cell_type": "code",
   "execution_count": 9,
   "metadata": {
    "tags": [
     "parameters"
    ]
   },
   "outputs": [],
   "source": [
    "# this cell is marked as parameters so we can pass through data from Dagster as a SDA\n",
    "data = None\n",
    "\n",
    "# to enable iterating on this locally, you could fetch the data from the Dagster asset\n",
    "# https://github.com/dagster-io/dagster/blob/master/docs/content/integrations/dagstermill/using-notebooks-with-dagster.mdx#extra-credit-fetch-a-dagster-asset-in-a-jupyter-notebook"
   ]
  },
  {
   "cell_type": "code",
   "execution_count": 6,
   "metadata": {},
   "outputs": [
    {
     "ename": "RuntimeError",
     "evalue": "data not passed in as parameter",
     "output_type": "error",
     "traceback": [
      "\u001b[0;31m---------------------------------------------------------------------------\u001b[0m",
      "\u001b[0;31mRuntimeError\u001b[0m                              Traceback (most recent call last)",
      "Cell \u001b[0;32mIn[6], line 2\u001b[0m\n\u001b[1;32m      1\u001b[0m \u001b[39mif\u001b[39;00m data \u001b[39mis\u001b[39;00m \u001b[39mNone\u001b[39;00m:\n\u001b[0;32m----> 2\u001b[0m     \u001b[39mraise\u001b[39;00m \u001b[39mRuntimeError\u001b[39;00m(\u001b[39m\"\u001b[39m\u001b[39mdata not passed in as parameter\u001b[39m\u001b[39m\"\u001b[39m)\n",
      "\u001b[0;31mRuntimeError\u001b[0m: data not passed in as parameter"
     ]
    }
   ],
   "source": [
    "if data is None:\n",
    "    raise RuntimeError(\"data not passed in as parameter\")"
   ]
  },
  {
   "cell_type": "code",
   "execution_count": null,
   "metadata": {},
   "outputs": [],
   "source": [
    "import matplotlib.pyplot as plt\n",
    "\n",
    "# Create the bar chart\n",
    "plt.figure(figsize=(10, 6))\n",
    "plt.bar(data['country'], data['average_rating'])\n",
    "plt.xlabel('Country')\n",
    "plt.ylabel('Average Rating')\n",
    "plt.title('Average Whisky Ratings by Country')\n",
    "plt.ylim(0, 100)  # Set the y-axis limits\n",
    "plt.grid(axis='y')\n",
    "\n",
    "# Add data labels\n",
    "for i, rating in enumerate(data['average_rating']):\n",
    "    plt.text(i, rating, f'{rating:.2f}', ha='center', va='bottom')\n",
    "\n",
    "plt.show()"
   ]
  }
 ],
 "metadata": {
  "kernelspec": {
   "display_name": ".venv",
   "language": "python",
   "name": "python3"
  },
  "language_info": {
   "codemirror_mode": {
    "name": "ipython",
    "version": 3
   },
   "file_extension": ".py",
   "mimetype": "text/x-python",
   "name": "python",
   "nbconvert_exporter": "python",
   "pygments_lexer": "ipython3",
   "version": "3.11.3"
  },
  "orig_nbformat": 4,
  "vscode": {
   "interpreter": {
    "hash": "92453718212e438b6dc44d4734f0de7e2a61fe0479970ed7b53d54b46474e834"
   }
  }
 },
 "nbformat": 4,
 "nbformat_minor": 2
}
